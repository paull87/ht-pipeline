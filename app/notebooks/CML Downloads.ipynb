{
 "cells": [
  {
   "cell_type": "markdown",
   "metadata": {},
   "source": [
    "Currently the SSIS CML download/import that runs on LON-SQL-01\\SOURCEBUILD always fails. It's not clear why it is failing; this notebook is intended as a replacement."
   ]
  },
  {
   "cell_type": "code",
   "execution_count": 1,
   "metadata": {},
   "outputs": [],
   "source": [
    "from cml import download_files, process_file, \\\n",
    "    combine_datasets, import_for_gdw\n",
    "from os.path import join"
   ]
  },
  {
   "cell_type": "code",
   "execution_count": 2,
   "metadata": {},
   "outputs": [],
   "source": [
    "TEMP_DIR = r\"c:\\temp\"\n",
    "ftb_file, movers_file = download_files(TEMP_DIR)"
   ]
  },
  {
   "cell_type": "code",
   "execution_count": 3,
   "metadata": {},
   "outputs": [],
   "source": [
    "ftb_data = process_file(join(TEMP_DIR, ftb_file))\n",
    "movers_data = process_file(join(TEMP_DIR, movers_file))\n",
    "data = combine_datasets(ftb_data, movers_data)\n",
    "import_for_gdw(data)"
   ]
  },
  {
   "cell_type": "code",
   "execution_count": null,
   "metadata": {},
   "outputs": [],
   "source": []
  }
 ],
 "metadata": {
  "kernelspec": {
   "display_name": "Python 3",
   "language": "python",
   "name": "python3"
  },
  "language_info": {
   "codemirror_mode": {
    "name": "ipython",
    "version": 3
   },
   "file_extension": ".py",
   "mimetype": "text/x-python",
   "name": "python",
   "nbconvert_exporter": "python",
   "pygments_lexer": "ipython3",
   "version": "3.6.8"
  }
 },
 "nbformat": 4,
 "nbformat_minor": 2
}

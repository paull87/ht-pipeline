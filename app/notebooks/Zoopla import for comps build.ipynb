{
 "cells": [
  {
   "cell_type": "code",
   "execution_count": 15,
   "metadata": {},
   "outputs": [],
   "source": [
    "import pyodbc\n",
    "import re\n",
    "import logging"
   ]
  },
  {
   "cell_type": "markdown",
   "metadata": {},
   "source": [
    "# User variables"
   ]
  },
  {
   "cell_type": "code",
   "execution_count": 16,
   "metadata": {},
   "outputs": [],
   "source": [
    "# 231: Zoopla Capital\n",
    "# 232: Zoopla Rental\n",
    "# n.b. 231 covers both datasets in SDR, so 231 is hard-coded in some places. This is not a mistake.\n",
    "PROPERTY_SOURCE_ID = 232\n",
    "\n",
    "COMPS_SERVER = r\"LON-SQL-04\"\n",
    "SDR_SERVER = r\"LON-SQL-01\\SOURCEBUILD\""
   ]
  },
  {
   "cell_type": "markdown",
   "metadata": {},
   "source": [
    "# Set system variables"
   ]
  },
  {
   "cell_type": "code",
   "execution_count": 17,
   "metadata": {},
   "outputs": [],
   "source": [
    "logger = logging.getLogger()\n",
    "logger.setLevel(logging.INFO)\n",
    "\n",
    "COMPSBUILD_CONNECTION_STRING = f\"Server={COMPS_SERVER};Database=Logging;Driver={{SQL Server}};Trusted Connection=True\"\n",
    "SOURCEBUILD_CONNECTION_STRING = f\"Server={SDR_SERVER};Database=Logging;Driver={{SQL Server}};Trusted Connection=True\"\n",
    "\n",
    "if PROPERTY_SOURCE_ID == 231:\n",
    "    source_table = \"sdr.staging.tab_231_CapitalListings_ForComps\"\n",
    "    price_column = \"askingPrice\"\n",
    "elif PROPERTY_SOURCE_ID == 232:\n",
    "    source_table = \"sdr.staging.tab_231_RentalListings_ForComps\"\n",
    "    price_column = \"MarketRent\"\n",
    "else:\n",
    "    raise Exception(\"invalid PROPERTY_SOURCE_ID\")"
   ]
  },
  {
   "cell_type": "markdown",
   "metadata": {},
   "source": [
    "# Find out what data was imported for the last build"
   ]
  },
  {
   "cell_type": "code",
   "execution_count": 18,
   "metadata": {},
   "outputs": [],
   "source": [
    "db = pyodbc.connect(COMPSBUILD_CONNECTION_STRING)\n",
    "\n",
    "query = \"\"\"\n",
    "SELECT TOP 1 sourceLocation\n",
    "FROM comparablesImport.dbo.tab_importBatch ib\n",
    "WHERE propertysourceid = ?\n",
    "ORDER BY dtmimported DESC\n",
    "\"\"\"\n",
    "\n",
    "with db.cursor() as cursor:\n",
    "    cursor.execute(query, PROPERTY_SOURCE_ID)\n",
    "    row = cursor.fetchone()\n",
    "\n",
    "db.close()"
   ]
  },
  {
   "cell_type": "code",
   "execution_count": 19,
   "metadata": {},
   "outputs": [
    {
     "name": "stderr",
     "output_type": "stream",
     "text": [
      "INFO:root:latest previous batch was to 310\n"
     ]
    }
   ],
   "source": [
    "regex = r\"WHERE importBatchId>[0-9]{0,} and importBatchId<=([0-9]{0,})\"\n",
    "m = re.search(regex, row[0])\n",
    "previous_end = m.groups(0)[0]\n",
    "\n",
    "logging.info(f\"latest previous batch was to {previous_end}\")"
   ]
  },
  {
   "cell_type": "markdown",
   "metadata": {},
   "source": [
    "# Find out what data needs to be imported this build"
   ]
  },
  {
   "cell_type": "code",
   "execution_count": 20,
   "metadata": {},
   "outputs": [],
   "source": [
    "db = pyodbc.connect(SOURCEBUILD_CONNECTION_STRING)\n",
    "\n",
    "query = \"\"\"\n",
    "SELECT  \n",
    "    [dataSourceId]\n",
    "    ,[importVersion]\n",
    "    ,[importBatchId]\n",
    "    ,[importBatchObject]\n",
    "    ,[rowsImported]\n",
    "    ,[batchActivationDate]\n",
    "FROM [SDR].[imp].[tab_dataSourceImportBatch]\n",
    "WHERE datasourceId=231\n",
    "and importVersion=1\n",
    "AND importBatchId > ?\n",
    "ORDER BY batchActivationDate\n",
    "\"\"\"\n",
    "\n",
    "with db.cursor() as cursor:\n",
    "    cursor.execute(query, previous_end)\n",
    "    rows = cursor.fetchall()\n",
    "\n",
    "db.close()"
   ]
  },
  {
   "cell_type": "code",
   "execution_count": 21,
   "metadata": {},
   "outputs": [
    {
     "name": "stderr",
     "output_type": "stream",
     "text": [
      "INFO:root:new batches are 311 to 314\n"
     ]
    }
   ],
   "source": [
    "batches_to_import = [x[2] for x in rows]\n",
    "\n",
    "if len(batches_to_import) == 0:\n",
    "    logging.warning(\"nothing to import\")\n",
    "\n",
    "current_start = min(batches_to_import)\n",
    "current_end = max(batches_to_import)\n",
    "logging.info(f\"new batches are {current_start} to {current_end}\")"
   ]
  },
  {
   "cell_type": "markdown",
   "metadata": {},
   "source": [
    "# Get the comps importRunID for this build"
   ]
  },
  {
   "cell_type": "code",
   "execution_count": 22,
   "metadata": {},
   "outputs": [],
   "source": [
    "db = pyodbc.connect(COMPSBUILD_CONNECTION_STRING)\n",
    "\n",
    "query = \"\"\"\n",
    "select TOP 1 *\n",
    "from comparablesImport.dbo.tab_importRun\n",
    "ORDER BY createDate desc\n",
    "\"\"\"\n",
    "\n",
    "with db.cursor() as cursor:\n",
    "    cursor.execute(query)\n",
    "    row = cursor.fetchone()\n",
    "\n",
    "db.close()"
   ]
  },
  {
   "cell_type": "code",
   "execution_count": 23,
   "metadata": {},
   "outputs": [
    {
     "name": "stderr",
     "output_type": "stream",
     "text": [
      "INFO:root:comps build importRunId is 124\n"
     ]
    }
   ],
   "source": [
    "comps_run_id = row[0]\n",
    "logging.info(f\"comps build importRunId is {comps_run_id}\")"
   ]
  },
  {
   "cell_type": "markdown",
   "metadata": {},
   "source": [
    "# Create a new tab_propertyRaw batchId"
   ]
  },
  {
   "cell_type": "code",
   "execution_count": 24,
   "metadata": {},
   "outputs": [],
   "source": [
    "db = pyodbc.connect(COMPSBUILD_CONNECTION_STRING)\n",
    "\n",
    "query = f\"\"\"\n",
    "DECLARE @sourceLocation VARCHAR(1000)\n",
    "= 'SELECT * FROM sdr.raw.tab_231_1 AS [raw] \n",
    "    INNER JOIN {source_table} AS cl\n",
    "    ON [raw].rawRowId = cl.rawRowId        \n",
    "    AND cl.importVersion = 1\n",
    "    WHERE importBatchId>{current_start - 1} and importBatchId<={current_end}'\n",
    ",   @importRunId INT = ?\n",
    "EXEC comparablesImport.[dbo].[proc_createNewImportBatch]\n",
    "    @propertysourceid = ?\n",
    "    , @sourcetype = ?\n",
    "    , @sourcelocation = @sourceLocation\n",
    "    , @importRunId  = @importRunId\n",
    "\"\"\"\n",
    "\n",
    "with db.cursor() as cursor:\n",
    "    cursor.execute(query, comps_run_id, PROPERTY_SOURCE_ID, source_table)\n",
    "    row = cursor.fetchone()\n",
    "\n",
    "db.close()"
   ]
  },
  {
   "cell_type": "code",
   "execution_count": 25,
   "metadata": {},
   "outputs": [
    {
     "name": "stderr",
     "output_type": "stream",
     "text": [
      "INFO:root:tab_propertyRaw batch is 66\n"
     ]
    }
   ],
   "source": [
    "property_raw_batch = row[0]\n",
    "logging.info(f\"tab_propertyRaw batch is {property_raw_batch}\")"
   ]
  },
  {
   "cell_type": "markdown",
   "metadata": {},
   "source": [
    "# Import the data into tab_propertyRaw"
   ]
  },
  {
   "cell_type": "code",
   "execution_count": 26,
   "metadata": {},
   "outputs": [],
   "source": [
    "db = pyodbc.connect(SOURCEBUILD_CONNECTION_STRING)\n",
    "\n",
    "query = f\"\"\"\n",
    "set xact_abort on;\n",
    "\n",
    "INSERT INTO [{COMPS_SERVER}].comparablesBuild.core.tab_propertyRaw ( \n",
    "    AddresspointToid\n",
    "    , batchId\n",
    "    , blnDeleted\n",
    "    , Comments\n",
    "    , custRef1\n",
    "    , fulladdress\n",
    "    , LastUpdateDate\n",
    "    , instrType1\n",
    "    , bathrooms\n",
    "    , bedrooms\n",
    "    , NoOfFloors\n",
    "    , receptions\n",
    "    , postcode\n",
    "    , {price_column}\n",
    "    , propStyle\n",
    "    , propertySourceId\n",
    "    , custRef2\n",
    "    , tenure\n",
    "    , yearBuilt\n",
    ")\n",
    "SELECT cl.AddressPointToid\n",
    "    , batchId = ?\n",
    "    , blnDeleted = 0\n",
    "    , comments = CONCAT('[fileId]=',CAST(raw.importBatchId AS NVARCHAR(10)),';[rowId]=',CAST(cl.rawRowId AS NVARCHAR(20)),';[listingId]=',CAST(cl.listing_id AS NVARCHAR(10)))\n",
    "    , custRef1 = cl.CycleNumber\n",
    "    , fullAddress = cl.full_address\n",
    "    , lastUpdateDate = cl.listing_date\n",
    "    , instrType1 = cl.listing_status\n",
    "    , bathrooms = cl.num_baths\n",
    "    , bedrooms = cl.num_beds\n",
    "    , NoOfFloors = cl.num_floors\n",
    "    , receptions = cl.num_recepts\n",
    "    , postcode = cl.postcode\n",
    "    , askingPrice = cl.price\n",
    "    , propStyle = cl.property_type\n",
    "    , propertySourceId = ?\n",
    "    , CustRef2 = cl.sequence_number\n",
    "    , tenure = cl.tenure\n",
    "    , yearBuilt = CASE WHEN cl.new_home = 'true' THEN YEAR(cl.listing_date) ELSE NULL END\n",
    "FROM sdr.raw.tab_231_1 AS [raw]\n",
    "INNER JOIN {source_table} AS cl \n",
    "    ON [raw].rawRowId = cl.rawRowId\n",
    "    and cl.importVersion = 1\n",
    "WHERE \n",
    "    importBatchId > ?\n",
    "    and importBatchID <= ?\n",
    "\"\"\"\n",
    "\n",
    "with db.cursor() as cursor:\n",
    "    res = cursor.execute(query, property_raw_batch, PROPERTY_SOURCE_ID, current_start - 1, current_end)\n",
    "\n",
    "db.close()"
   ]
  },
  {
   "cell_type": "markdown",
   "metadata": {},
   "source": [
    "# Update meta data"
   ]
  },
  {
   "cell_type": "code",
   "execution_count": 27,
   "metadata": {},
   "outputs": [],
   "source": [
    "rows_inserted = res.rowcount"
   ]
  },
  {
   "cell_type": "code",
   "execution_count": 28,
   "metadata": {},
   "outputs": [
    {
     "name": "stderr",
     "output_type": "stream",
     "text": [
      "INFO:root:1 records updated\n"
     ]
    }
   ],
   "source": [
    "db = pyodbc.connect(COMPSBUILD_CONNECTION_STRING)\n",
    "\n",
    "query = f\"\"\"\n",
    "UPDATE ib\n",
    "SET \n",
    "    rawrowsimported = {rows_inserted}\n",
    "    , apmatchcount = {rows_inserted} -- we only import address matched data\n",
    "FROM comparablesImport.dbo.tab_importBatch as ib\n",
    "WHERE \n",
    "    propertysourceid = ?\n",
    "    and batchId = {property_raw_batch}\n",
    "    and importRunId = {comps_run_id}\n",
    "\"\"\"\n",
    "\n",
    "with db.cursor() as cursor:\n",
    "    res = cursor.execute(query, PROPERTY_SOURCE_ID)\n",
    "\n",
    "db.close()\n",
    "\n",
    "logging.info(f\"{res.rowcount} records updated\")"
   ]
  },
  {
   "cell_type": "code",
   "execution_count": null,
   "metadata": {},
   "outputs": [],
   "source": []
  }
 ],
 "metadata": {
  "kernelspec": {
   "display_name": "Python 3",
   "language": "python",
   "name": "python3"
  },
  "language_info": {
   "codemirror_mode": {
    "name": "ipython",
    "version": 3
   },
   "file_extension": ".py",
   "mimetype": "text/x-python",
   "name": "python",
   "nbconvert_exporter": "python",
   "pygments_lexer": "ipython3",
   "version": "3.6.8"
  }
 },
 "nbformat": 4,
 "nbformat_minor": 2
}
